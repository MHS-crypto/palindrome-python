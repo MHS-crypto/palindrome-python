{
 "cells": [
  {
   "cell_type": "code",
   "execution_count": 25,
   "metadata": {},
   "outputs": [],
   "source": [
    "def palindrome(number) :\n",
    "    temp = number \n",
    "    check = 0\n",
    "    while(number>0):\n",
    "        reminder = number % 10\n",
    "        check = (check * 10) + reminder\n",
    "        number = number // 10\n",
    "        \n",
    "        \n",
    "        \n",
    "    if(temp == check):\n",
    "        print(\"As \", temp, \" is equal to \", check , \" so this is a palindrome\")\n",
    "    else:\n",
    "        print(\"As \", temp, \" is not equal to \", check , \" so this is not a palindrome\")\n",
    "        "
   ]
  },
  {
   "cell_type": "code",
   "execution_count": 26,
   "metadata": {},
   "outputs": [
    {
     "name": "stdout",
     "output_type": "stream",
     "text": [
      "Enter a numer:121\n",
      "As  121  is equal to  121  so this is a palindrome\n"
     ]
    }
   ],
   "source": [
    "n = int(input(\"Enter a numer:\"))\n",
    "palindrome(n)"
   ]
  },
  {
   "cell_type": "code",
   "execution_count": null,
   "metadata": {},
   "outputs": [],
   "source": []
  }
 ],
 "metadata": {
  "kernelspec": {
   "display_name": "Python 3",
   "language": "python",
   "name": "python3"
  },
  "language_info": {
   "codemirror_mode": {
    "name": "ipython",
    "version": 3
   },
   "file_extension": ".py",
   "mimetype": "text/x-python",
   "name": "python",
   "nbconvert_exporter": "python",
   "pygments_lexer": "ipython3",
   "version": "3.7.3"
  }
 },
 "nbformat": 4,
 "nbformat_minor": 2
}
